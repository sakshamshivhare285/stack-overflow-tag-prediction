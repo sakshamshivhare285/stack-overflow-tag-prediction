{
 "cells": [
  {
   "cell_type": "code",
   "execution_count": 28,
   "id": "e0852405",
   "metadata": {},
   "outputs": [],
   "source": [
    "import pandas as pd\n",
    "import numpy as np\n",
    "import sqlite3\n",
    "from sqlalchemy import create_engine # database connectio\n",
    "import os\n",
    "import re\n",
    "import csv\n",
    "import matplotlib.pyplot as plt\n",
    "import seaborn as sns\n",
    "import datetime as dt\n",
    "#from wordcloud import WordCloud"
   ]
  },
  {
   "cell_type": "raw",
   "id": "9cfb26ce",
   "metadata": {},
   "source": [
    "** creating SQLite connection**"
   ]
  },
  {
   "cell_type": "code",
   "execution_count": 6,
   "id": "526f249b",
   "metadata": {},
   "outputs": [
    {
     "name": "stdout",
     "output_type": "stream",
     "text": [
      "100000.rows\n",
      "200000.rows\n",
      "300000.rows\n",
      "400000.rows\n",
      "500000.rows\n",
      "600000.rows\n",
      "700000.rows\n",
      "800000.rows\n",
      "900000.rows\n",
      "1000000.rows\n",
      "1100000.rows\n",
      "1200000.rows\n",
      "1300000.rows\n",
      "1400000.rows\n",
      "1500000.rows\n",
      "1600000.rows\n",
      "1700000.rows\n",
      "1800000.rows\n",
      "1900000.rows\n",
      "2000000.rows\n",
      "2100000.rows\n",
      "2200000.rows\n",
      "2300000.rows\n",
      "2400000.rows\n",
      "2500000.rows\n",
      "2600000.rows\n",
      "2700000.rows\n",
      "2800000.rows\n",
      "2900000.rows\n",
      "3000000.rows\n",
      "3100000.rows\n",
      "3200000.rows\n",
      "3300000.rows\n",
      "3400000.rows\n",
      "3500000.rows\n",
      "3600000.rows\n",
      "3700000.rows\n",
      "3800000.rows\n",
      "3900000.rows\n",
      "4000000.rows\n",
      "4100000.rows\n",
      "4200000.rows\n",
      "4300000.rows\n",
      "4400000.rows\n",
      "4500000.rows\n",
      "4600000.rows\n",
      "4700000.rows\n",
      "4800000.rows\n",
      "4900000.rows\n",
      "5000000.rows\n",
      "5100000.rows\n",
      "5200000.rows\n",
      "5300000.rows\n",
      "5400000.rows\n",
      "5500000.rows\n",
      "5600000.rows\n",
      "5700000.rows\n",
      "5800000.rows\n",
      "5900000.rows\n",
      "6000000.rows\n",
      "6100000.rows\n",
      "Time taken to insert data , 0:05:04.904890\n"
     ]
    }
   ],
   "source": [
    "if not os.path.isfile('train.db'):\n",
    "    start = dt.datetime.now()\n",
    "    disk_engine = create_engine('sqlite:///train.db')\n",
    "    start = dt.datetime.now()\n",
    "    chunksize = 100000\n",
    "    j = 0\n",
    "    index_start = 1\n",
    "    for df in pd.read_csv('Train.csv',names=['Id', 'Title', 'Body', 'Tags'], chunksize=chunksize, iterator=True, \n",
    "                          encoding='utf-8'):\n",
    "        df.index += index_start\n",
    "        j = j+1\n",
    "        print('{}.rows'.format(j*chunksize))\n",
    "        df.to_sql('data', disk_engine, if_exists='append')\n",
    "        index_start = df.index[-1] + 1\n",
    "    print('Time taken to insert data ,',dt.datetime.now() - start)"
   ]
  },
  {
   "cell_type": "code",
   "execution_count": 12,
   "id": "b377a2fb",
   "metadata": {},
   "outputs": [
    {
     "name": "stdout",
     "output_type": "stream",
     "text": [
      "number of rows in database are     count(*)\n",
      "0   6034196\n"
     ]
    }
   ],
   "source": [
    "# counting number of row in data fike\n",
    "if os.path.isfile('train.db'):\n",
    "    con = sqlite3.connect('train.db')\n",
    "    num_of_rows = pd.read_sql_query(\"\"\"select count(*) from data\"\"\", con)\n",
    "    print('number of rows in database are ',num_of_rows)\n",
    "    con.close()\n",
    "else:\n",
    "    print('file not found')"
   ]
  },
  {
   "cell_type": "code",
   "execution_count": 6,
   "id": "9bf64e24",
   "metadata": {},
   "outputs": [
    {
     "name": "stdout",
     "output_type": "stream",
     "text": [
      "Time required was 0:00:00.015926\n"
     ]
    }
   ],
   "source": [
    "# counting number of row in data fike\n",
    "if os.path.isfile('train.db'):\n",
    "    start = dt.datetime.now()\n",
    "    con = sqlite3.connect('train.db')\n",
    "    num_of_rows = pd.read_sql_query(\"\"\"select * from data limit 1000\"\"\", con)\n",
    "    #print('number of rows in database are ',num_of_rows)\n",
    "    con.close()\n",
    "    print('Time required was',dt.datetime.now() - start)\n",
    "else:\n",
    "    print('file not found')"
   ]
  },
  {
   "cell_type": "code",
   "execution_count": 7,
   "id": "502ac45c",
   "metadata": {},
   "outputs": [
    {
     "data": {
      "text/html": [
       "<div>\n",
       "<style scoped>\n",
       "    .dataframe tbody tr th:only-of-type {\n",
       "        vertical-align: middle;\n",
       "    }\n",
       "\n",
       "    .dataframe tbody tr th {\n",
       "        vertical-align: top;\n",
       "    }\n",
       "\n",
       "    .dataframe thead th {\n",
       "        text-align: right;\n",
       "    }\n",
       "</style>\n",
       "<table border=\"1\" class=\"dataframe\">\n",
       "  <thead>\n",
       "    <tr style=\"text-align: right;\">\n",
       "      <th></th>\n",
       "      <th>index</th>\n",
       "      <th>Id</th>\n",
       "      <th>Title</th>\n",
       "      <th>Body</th>\n",
       "      <th>Tags</th>\n",
       "    </tr>\n",
       "  </thead>\n",
       "  <tbody>\n",
       "    <tr>\n",
       "      <th>0</th>\n",
       "      <td>1</td>\n",
       "      <td>Id</td>\n",
       "      <td>Title</td>\n",
       "      <td>Body</td>\n",
       "      <td>Tags</td>\n",
       "    </tr>\n",
       "    <tr>\n",
       "      <th>1</th>\n",
       "      <td>2</td>\n",
       "      <td>1</td>\n",
       "      <td>How to check if an uploaded file is an image w...</td>\n",
       "      <td>&lt;p&gt;I'd like to check if an uploaded file is an...</td>\n",
       "      <td>php image-processing file-upload upload mime-t...</td>\n",
       "    </tr>\n",
       "    <tr>\n",
       "      <th>2</th>\n",
       "      <td>3</td>\n",
       "      <td>2</td>\n",
       "      <td>How can I prevent firefox from closing when I ...</td>\n",
       "      <td>&lt;p&gt;In my favorite editor (vim), I regularly us...</td>\n",
       "      <td>firefox</td>\n",
       "    </tr>\n",
       "    <tr>\n",
       "      <th>3</th>\n",
       "      <td>4</td>\n",
       "      <td>3</td>\n",
       "      <td>R Error Invalid type (list) for variable</td>\n",
       "      <td>&lt;p&gt;I am import matlab file and construct a dat...</td>\n",
       "      <td>r matlab machine-learning</td>\n",
       "    </tr>\n",
       "    <tr>\n",
       "      <th>4</th>\n",
       "      <td>5</td>\n",
       "      <td>4</td>\n",
       "      <td>How do I replace special characters in a URL?</td>\n",
       "      <td>&lt;p&gt;This is probably very simple, but I simply ...</td>\n",
       "      <td>c# url encoding</td>\n",
       "    </tr>\n",
       "    <tr>\n",
       "      <th>...</th>\n",
       "      <td>...</td>\n",
       "      <td>...</td>\n",
       "      <td>...</td>\n",
       "      <td>...</td>\n",
       "      <td>...</td>\n",
       "    </tr>\n",
       "    <tr>\n",
       "      <th>995</th>\n",
       "      <td>996</td>\n",
       "      <td>995</td>\n",
       "      <td>TP Link wireless router connects but web pages...</td>\n",
       "      <td>&lt;p&gt;i have recently purchased &lt;a href=\"http://r...</td>\n",
       "      <td>wireless-router tp-link mtu</td>\n",
       "    </tr>\n",
       "    <tr>\n",
       "      <th>996</th>\n",
       "      <td>997</td>\n",
       "      <td>996</td>\n",
       "      <td>Forbid a given user to use a given range of port</td>\n",
       "      <td>&lt;p&gt;I would like to forbid a user account on li...</td>\n",
       "      <td>linux</td>\n",
       "    </tr>\n",
       "    <tr>\n",
       "      <th>997</th>\n",
       "      <td>998</td>\n",
       "      <td>997</td>\n",
       "      <td>How to find which block displays content?</td>\n",
       "      <td>&lt;p&gt;I have to modify a website made by someone ...</td>\n",
       "      <td>block prestashop</td>\n",
       "    </tr>\n",
       "    <tr>\n",
       "      <th>998</th>\n",
       "      <td>999</td>\n",
       "      <td>998</td>\n",
       "      <td>Struct with `initializer_list` ctor inside union?</td>\n",
       "      <td>&lt;p&gt;I have a struct which is POD, but for conve...</td>\n",
       "      <td>c++ c++11 initializer-list unions</td>\n",
       "    </tr>\n",
       "    <tr>\n",
       "      <th>999</th>\n",
       "      <td>1000</td>\n",
       "      <td>999</td>\n",
       "      <td>Eclipse complains android:scrollbars and andro...</td>\n",
       "      <td>&lt;p&gt;Having a problem in Eclipse with regards to...</td>\n",
       "      <td>xml android eclipse</td>\n",
       "    </tr>\n",
       "  </tbody>\n",
       "</table>\n",
       "<p>1000 rows × 5 columns</p>\n",
       "</div>"
      ],
      "text/plain": [
       "     index   Id                                              Title  \\\n",
       "0        1   Id                                              Title   \n",
       "1        2    1  How to check if an uploaded file is an image w...   \n",
       "2        3    2  How can I prevent firefox from closing when I ...   \n",
       "3        4    3           R Error Invalid type (list) for variable   \n",
       "4        5    4      How do I replace special characters in a URL?   \n",
       "..     ...  ...                                                ...   \n",
       "995    996  995  TP Link wireless router connects but web pages...   \n",
       "996    997  996   Forbid a given user to use a given range of port   \n",
       "997    998  997          How to find which block displays content?   \n",
       "998    999  998  Struct with `initializer_list` ctor inside union?   \n",
       "999   1000  999  Eclipse complains android:scrollbars and andro...   \n",
       "\n",
       "                                                  Body  \\\n",
       "0                                                 Body   \n",
       "1    <p>I'd like to check if an uploaded file is an...   \n",
       "2    <p>In my favorite editor (vim), I regularly us...   \n",
       "3    <p>I am import matlab file and construct a dat...   \n",
       "4    <p>This is probably very simple, but I simply ...   \n",
       "..                                                 ...   \n",
       "995  <p>i have recently purchased <a href=\"http://r...   \n",
       "996  <p>I would like to forbid a user account on li...   \n",
       "997  <p>I have to modify a website made by someone ...   \n",
       "998  <p>I have a struct which is POD, but for conve...   \n",
       "999  <p>Having a problem in Eclipse with regards to...   \n",
       "\n",
       "                                                  Tags  \n",
       "0                                                 Tags  \n",
       "1    php image-processing file-upload upload mime-t...  \n",
       "2                                              firefox  \n",
       "3                            r matlab machine-learning  \n",
       "4                                      c# url encoding  \n",
       "..                                                 ...  \n",
       "995                        wireless-router tp-link mtu  \n",
       "996                                              linux  \n",
       "997                                   block prestashop  \n",
       "998                  c++ c++11 initializer-list unions  \n",
       "999                                xml android eclipse  \n",
       "\n",
       "[1000 rows x 5 columns]"
      ]
     },
     "execution_count": 7,
     "metadata": {},
     "output_type": "execute_result"
    }
   ],
   "source": [
    "num_of_rows"
   ]
  },
  {
   "cell_type": "code",
   "execution_count": 8,
   "id": "7406c471",
   "metadata": {},
   "outputs": [
    {
     "name": "stdout",
     "output_type": "stream",
     "text": [
      "Time required was 0:23:40.414809\n"
     ]
    }
   ],
   "source": [
    "# checking for duplicate records\n",
    "if os.path.isfile('train.db'):\n",
    "    start = dt.datetime.now()\n",
    "    con = sqlite3.connect('train.db')\n",
    "    #query = '''select Title, Body,Tags, count(*) as cnt_dup from data group by Title,Body,Tags'''\n",
    "    df_with_dup = pd.read_sql_query(\"\"\"select Title, Body,Tags, count(*) as cnt_dup from data GROUP BY Title,Body,Tags\"\"\",con)\n",
    "    con.close()\n",
    "    print('Time required was',dt.datetime.now() - start)"
   ]
  },
  {
   "cell_type": "code",
   "execution_count": 11,
   "id": "0c7c909a",
   "metadata": {},
   "outputs": [
    {
     "data": {
      "text/plain": [
       "1    2656284\n",
       "2    1272336\n",
       "3     277575\n",
       "4         90\n",
       "5         25\n",
       "6          5\n",
       "Name: cnt_dup, dtype: int64"
      ]
     },
     "execution_count": 11,
     "metadata": {},
     "output_type": "execute_result"
    }
   ],
   "source": [
    "df_with_dup.cnt_dup.value_counts()"
   ]
  },
  {
   "cell_type": "code",
   "execution_count": 24,
   "id": "bebb5329",
   "metadata": {},
   "outputs": [
    {
     "name": "stdout",
     "output_type": "stream",
     "text": [
      "Percet of duplicate questions is, 30.292038906260256 %\n"
     ]
    }
   ],
   "source": [
    "no_dup =( (num_of_rows['count(*)'].values[0]-df_with_dup.shape[0]) / num_of_rows['count(*)'].values[0]) *100\n",
    "print('Percet of duplicate questions is,',no_dup,'%')"
   ]
  },
  {
   "cell_type": "code",
   "execution_count": 35,
   "id": "de7351b4",
   "metadata": {},
   "outputs": [
    {
     "data": {
      "text/plain": [
       "Title      0\n",
       "Body       0\n",
       "Tags       7\n",
       "cnt_dup    0\n",
       "dtype: int64"
      ]
     },
     "execution_count": 35,
     "metadata": {},
     "output_type": "execute_result"
    }
   ],
   "source": [
    "df_with_dup.isnull().sum()"
   ]
  },
  {
   "cell_type": "code",
   "execution_count": 36,
   "id": "eda75287",
   "metadata": {},
   "outputs": [],
   "source": [
    "# dropping null values\n",
    "df_with_dup.dropna(inplace=True)"
   ]
  },
  {
   "cell_type": "code",
   "execution_count": 37,
   "id": "d42e75dd",
   "metadata": {},
   "outputs": [],
   "source": [
    "# creating a new coln to count number of tags for each row\n",
    "df_with_dup['cnt_tags'] = df_with_dup.Tags.apply(lambda x:len(x.split(\" \")))"
   ]
  },
  {
   "cell_type": "code",
   "execution_count": 40,
   "id": "c3396ae8",
   "metadata": {},
   "outputs": [
    {
     "data": {
      "text/plain": [
       "3    1206157\n",
       "2    1111706\n",
       "4     814996\n",
       "1     568291\n",
       "5     505158\n",
       "Name: cnt_tags, dtype: int64"
      ]
     },
     "execution_count": 40,
     "metadata": {},
     "output_type": "execute_result"
    }
   ],
   "source": [
    "# checking distribuition of tags per question\n",
    "df_with_dup.cnt_tags.value_counts()"
   ]
  },
  {
   "cell_type": "code",
   "execution_count": null,
   "id": "86130d7b",
   "metadata": {},
   "outputs": [],
   "source": [
    "# creating new database with no duplicate data \n",
    "if not os.path.isfile('train_with_no_duplicate.db'):\n",
    "    disk_dup = create_engine(\"sqlite:///train_with_no_duplicate.db\")\n",
    "    no_duplicate = pd.DataFrame(df_with_dup,columns=['Title','Body','Tags'])\n",
    "    no_duplicate.to_sql('no_duplicate_data',disk_dup)\n",
    "else:\n",
    "    print('no created')"
   ]
  },
  {
   "cell_type": "code",
   "execution_count": 45,
   "id": "f15df418",
   "metadata": {},
   "outputs": [
    {
     "name": "stdout",
     "output_type": "stream",
     "text": [
      "Please download the train.db file from drive or run the above cells to genarate train.db file\n"
     ]
    }
   ],
   "source": [
    "if os.path.isfile('train_with_no_duplicate.db'):\n",
    "    start = datetime.now()\n",
    "    con = sqlite3.connect('train_with_no_duplicate.db')\n",
    "    tag_data = pd.read_sql_query(\"\"\"SELECT Tags FROM no_duplicate_data\"\"\", con)\n",
    "    #Always remember to close the database\n",
    "    con.close()\n",
    "\n",
    "    # Let's now drop unwanted column.\n",
    "    tag_data.drop(tag_data.index[0], inplace=True)\n",
    "    #Printing first 5 columns from our data frame\n",
    "    tag_data.head()\n",
    "    print(\"Time taken to run this cell :\", datetime.now() - start)\n",
    "else:\n",
    "    print(\"Please download the train.db file from drive or run the above cells to genarate train.db file\")"
   ]
  },
  {
   "cell_type": "code",
   "execution_count": null,
   "id": "7218cfd2",
   "metadata": {},
   "outputs": [],
   "source": []
  }
 ],
 "metadata": {
  "kernelspec": {
   "display_name": "Python 3 (ipykernel)",
   "language": "python",
   "name": "python3"
  },
  "language_info": {
   "codemirror_mode": {
    "name": "ipython",
    "version": 3
   },
   "file_extension": ".py",
   "mimetype": "text/x-python",
   "name": "python",
   "nbconvert_exporter": "python",
   "pygments_lexer": "ipython3",
   "version": "3.9.13"
  }
 },
 "nbformat": 4,
 "nbformat_minor": 5
}
