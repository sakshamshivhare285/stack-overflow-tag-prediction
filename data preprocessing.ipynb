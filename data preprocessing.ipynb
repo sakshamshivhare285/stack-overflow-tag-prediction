{
 "cells": [
  {
   "cell_type": "code",
   "execution_count": 1,
   "id": "179127c7",
   "metadata": {},
   "outputs": [],
   "source": [
    "import pandas as pd\n",
    "import numpy as np\n",
    "import sqlite3\n",
    "from sqlalchemy import create_engine # database connectio\n",
    "import os\n",
    "import re\n",
    "import csv\n",
    "import matplotlib.pyplot as plt\n",
    "import seaborn as sns\n",
    "import datetime as dt\n",
    "import nltk\n",
    "from nltk.corpus import stopwords\n",
    "from nltk.tokenize import word_tokenize, sent_tokenize\n",
    "from nltk.stem.snowball import SnowballStemmer"
   ]
  },
  {
   "cell_type": "markdown",
   "id": "b34032f3",
   "metadata": {},
   "source": [
    "## Cleaning and preprocessing of Questions"
   ]
  },
  {
   "cell_type": "markdown",
   "id": "8b7257c7",
   "metadata": {},
   "source": [
    "## Preprocessing\n",
    "##### Sample 1M data points\n",
    "##### Separate Code from Body\n",
    "##### Remove Spcial characters from Question title and description (not in code)\n",
    "##### Remove stop words (Except 'C')\n",
    "##### Remove HTML Tags\n",
    "##### Convert all the characters into small letters\n",
    "##### Use SnowballStemmer to stem the word"
   ]
  },
  {
   "cell_type": "code",
   "execution_count": 2,
   "id": "a522ac02",
   "metadata": {},
   "outputs": [],
   "source": [
    "def striphtml(data):\n",
    "    # this function will help to remove html tags from the questions in the data\n",
    "    cleanr = re.compile('<.*?>')\n",
    "    cleantext = re.sub(cleanr,' ',str(data))\n",
    "    return cleantext\n",
    "\n",
    "#nltk.download('stopwords')\n",
    "stop_words = set(stopwords.words('english'))\n",
    "stemmer = SnowballStemmer(\"english\")"
   ]
  },
  {
   "cell_type": "code",
   "execution_count": 3,
   "id": "306825ab",
   "metadata": {},
   "outputs": [],
   "source": [
    "\n",
    "# below function will help to create table from the database to import data as dataframe\n",
    "def create_table(conn, create_table_sql):\n",
    "    \"\"\" create a table from the create_table_sql statement\n",
    "    :param conn: Connection object\n",
    "    :param create_table_sql: a CREATE TABLE statement\n",
    "    :return:\n",
    "    \"\"\"\n",
    "    try:\n",
    "        c = conn.cursor()\n",
    "        c.execute(create_table_sql)\n",
    "    except Error as e:\n",
    "        print(e)"
   ]
  },
  {
   "cell_type": "code",
   "execution_count": 4,
   "id": "b8f7057c",
   "metadata": {},
   "outputs": [],
   "source": [
    "# creating connection with db file\n",
    "def create_connection(db_file):\n",
    "    \"\"\" create a database connection to the SQLite database\n",
    "        specified by db_file\n",
    "    :param db_file: database file\n",
    "    :return: Connection object or None\n",
    "    \"\"\"\n",
    "    try:\n",
    "        conn = sqlite3.connect(db_file)\n",
    "        return conn\n",
    "    except Error as e:\n",
    "        print(e)\n",
    " \n",
    "    return None"
   ]
  },
  {
   "cell_type": "code",
   "execution_count": 5,
   "id": "9e8696a8",
   "metadata": {},
   "outputs": [],
   "source": [
    "def checktableExist(dbcon):\n",
    "    cursor = dbcon.cursor()\n",
    "    str = \"select name from sqlite_master where type='table'\"\n",
    "    table_names = cursor.execute(str)\n",
    "    print(\"Tables in the databse:\")\n",
    "    tables =table_names.fetchall()\n",
    "    print(tables[0][0])\n",
    "    return(len(tables))"
   ]
  },
  {
   "cell_type": "code",
   "execution_count": 6,
   "id": "33e1f5dc",
   "metadata": {},
   "outputs": [],
   "source": [
    "def create_database_table(db_file, query):\n",
    "    con = create_connection(db_file)\n",
    "    if con is not None:\n",
    "            create_table(con,query)\n",
    "            checktableExist(con)\n",
    "    else:\n",
    "        print('connot create the database connection')\n",
    "    con.close()"
   ]
  },
  {
   "cell_type": "code",
   "execution_count": 27,
   "id": "3599640c",
   "metadata": {},
   "outputs": [
    {
     "name": "stdout",
     "output_type": "stream",
     "text": [
      "Tables in the databse:\n",
      "QuestionsProcessed\n"
     ]
    }
   ],
   "source": [
    "sql_create_table = \"\"\"CREATE TABLE IF NOT EXISTS QuestionsProcessed (question text NOT NULL, code text, tags text, words_pre integer, words_post integer, is_code integer);\"\"\"\n",
    "create_database_table(\"Processed.db\", sql_create_table)"
   ]
  },
  {
   "cell_type": "code",
   "execution_count": 28,
   "id": "acc0ffab",
   "metadata": {},
   "outputs": [
    {
     "name": "stdout",
     "output_type": "stream",
     "text": [
      "Tables in the databse:\n",
      "QuestionsProcessed\n",
      "delete all the rows\n",
      "time taken 0:03:24.200953\n"
     ]
    }
   ],
   "source": [
    "# selecting random rows from a database\n",
    "# here we experimenting with 1 million rows\n",
    "\n",
    "start = dt.datetime.now()\n",
    "read_db = \"train_with_no_duplicate.db\"\n",
    "write_db = 'Processed.db'\n",
    "\n",
    "if os.path.isfile(read_db):\n",
    "    db_con = create_connection(read_db)\n",
    "    if db_con is not None:\n",
    "        data_reader = db_con.cursor()\n",
    "        data_reader.execute('select Title, Body,Tags from no_duplicate_data order by RANDOM() limit 100000')\n",
    "else:\n",
    "    print('connection not establied')\n",
    "    \n",
    "if os.path.isfile(write_db):\n",
    "    con_w = sqlite3.connect(write_db)\n",
    "    if con_w is not None:\n",
    "        # check if table exists\n",
    "        tables = checktableExist(con_w)\n",
    "        writer = con_w.cursor()\n",
    "        if tables != 0:\n",
    "            writer.execute('delete from QuestionsProcessed where 1')\n",
    "            print('delete all the rows')\n",
    "print('time taken',dt.datetime.now()- start)"
   ]
  },
  {
   "cell_type": "markdown",
   "id": "271df23f",
   "metadata": {},
   "source": [
    "## __ we have created new database with sampled data"
   ]
  },
  {
   "cell_type": "code",
   "execution_count": 29,
   "id": "c955f666",
   "metadata": {},
   "outputs": [
    {
     "name": "stdout",
     "output_type": "stream",
     "text": [
      "Avg. length of questions(Title+Body) before processing: 1171\n",
      "Avg. length of questions(Title+Body) after processing: 326\n",
      "Percent of questions containing code: 57\n",
      "Time taken to run this cell : 0:04:38.683416\n"
     ]
    }
   ],
   "source": [
    "#http://www.bernzilla.com/2008/05/13/selecting-a-random-row-from-an-sqlite-table/\n",
    "\n",
    "start = dt.datetime.now()\n",
    "preprocessed_data_list = []\n",
    "data_reader.fetchone() # reader for above db\n",
    "questions_with_code = 0\n",
    "len_pre = 0\n",
    "len_post = 0\n",
    "questions_processed = 0\n",
    "\n",
    "for row in data_reader:\n",
    "    is_code = 0\n",
    "    title,question,tags = row[0],row[1],row[2]\n",
    "    \n",
    "    if '<code>' in question:\n",
    "        questions_with_code += 1\n",
    "        is_code = 1\n",
    "        \n",
    "    x = len(question) + len(title)\n",
    "    len_pre += x\n",
    "    \n",
    "    \n",
    "    code = str(re.findall(r'<code>(.*?)</code>', question,flags=re.DOTALL))\n",
    "    \n",
    "    question = re.sub(r'<code>(.*?)</code>','', question,flags=re.MULTILINE |re.DOTALL)\n",
    "    question = striphtml(question.encode('utf-8'))\n",
    "    \n",
    "    title = title.encode('utf-8')\n",
    "    question = str(title) + \" \" + str(question)\n",
    "    question = re.sub('[^A-Za-z]+',\" \",question)\n",
    "    words = word_tokenize(str(question.lower()))\n",
    "# now we would be removing all the stopwords and single letters except c\n",
    "    '''question = []\n",
    "    for i in words:\n",
    "        x = \" \"\n",
    "        if i not in stop_words and (len(i)!= 0 or j =='c'):\n",
    "            y = str(stemmer.stem(i))\n",
    "            x.join(y)'''\n",
    "    question=' '.join(str(stemmer.stem(j)) for j in words if j not in stop_words and (len(j)!=1 or j=='c'))\n",
    "    len_post += len(question)\n",
    "    tup = (question,code,tags,x,len(question), is_code)\n",
    "    questions_processed +=1\n",
    "    writer.execute(\"insert into QuestionsProcessed(question,code,tags,words_pre,words_post,is_code) values(?,?,?,?,?,?)\",tup)\n",
    "    if (questions_processed%100000==0):\n",
    "        print('number of question processed',questions_processed)\n",
    "no_dup_avg_len_pre=(len_pre*1.0)/questions_processed\n",
    "no_dup_avg_len_post=(len_post*1.0)/questions_processed\n",
    "\n",
    "print( \"Avg. length of questions(Title+Body) before processing: %d\"%no_dup_avg_len_pre)\n",
    "print( \"Avg. length of questions(Title+Body) after processing: %d\"%no_dup_avg_len_post)\n",
    "print (\"Percent of questions containing code: %d\"%((questions_with_code*100.0)/questions_processed))\n",
    "\n",
    "print(\"Time taken to run this cell :\", dt.datetime.now() - start)"
   ]
  },
  {
   "cell_type": "code",
   "execution_count": 30,
   "id": "3253fe32",
   "metadata": {},
   "outputs": [],
   "source": [
    "con_w.commit()\n",
    "db_con.commit()\n",
    "con_w.close()\n",
    "db_con.close()"
   ]
  },
  {
   "cell_type": "code",
   "execution_count": 33,
   "id": "01a90753",
   "metadata": {},
   "outputs": [
    {
     "name": "stdout",
     "output_type": "stream",
     "text": [
      "Questions after preprocessing are displayed below\n",
      "====================================================================================================\n",
      "('detect touch uiimageview uitableviewcel object uitableviewcellstylesubtitl style use object uitableviewcellstylesubtitl style imageview left textlabel bold detailtextlabel creat tabl need detect touch uiimageview also know indexpath cell imageview click tri use work whenev imag click didselectrowatindexpath call want creat separ add custom button way detect touch',)\n",
      "----------------------------------------------------------------------------------------------------\n",
      "('php pseudocod tool convert php sourc pseudocod automat implement algorithm want standard independ languag pseudocod pleas help find tool edit exampl php sourc pseudocod',)\n",
      "----------------------------------------------------------------------------------------------------\n",
      "('grep window xp vs window use grep gnuwin window window xp follow grep foo nul result follow output grep nul invalid argument window argument result output grep exit without error messag output differ window xp window',)\n",
      "----------------------------------------------------------------------------------------------------\n",
      "('java format word string exampl text file contain content line book java program search particular word line book program would like result line uppercas output place match arraylist would go know use chang one word string word thank advanc',)\n",
      "----------------------------------------------------------------------------------------------------\n",
      "('desktop freewar list color use pictur search find one onlin tool want desktop would like one gui',)\n",
      "----------------------------------------------------------------------------------------------------\n",
      "('unauthorizedaccessexcept webcam app tri make simpl webcam app howev click initializebutton got except could problem edit found bug basic webcam alreadi initi tri initi trigger except put flag tri catch',)\n",
      "----------------------------------------------------------------------------------------------------\n",
      "('creat destin folder file upload name filenam look various php ajax file upload plugin onlin troubl find one featur realli need purpos upload file upload must go directori name file minus extens natur nicest way would creat folder upload send file know involv mkdir way found number script even perform basic folder creation clear dynam use filenam idea thank',)\n",
      "----------------------------------------------------------------------------------------------------\n",
      "('load byte system window control imag runtim byte repres png file download png via webclient webclient download png refer via url get byte question load byte system window control imag element wpf thank note complementari question ask http stackoverflow com question load byte imag runtim specif enough origin question answer still relev',)\n",
      "----------------------------------------------------------------------------------------------------\n",
      "('network base fuse mount made fault toler current use gvfs wrap fuse mount network share samba sftp remot server share sftp employ develop server client server etc howev gvfs extrem fault intoler default configur found switch wireless connect wire connect without first unmount everi remot filesystem end least minut wait time die worst complet gui deadlock use sshfs direct find issu exist though perhap without sever gui deadlock solut problem least like abl switch network adapt without care unmount everyth',)\n",
      "----------------------------------------------------------------------------------------------------\n"
     ]
    }
   ],
   "source": [
    "if os.path.isfile('Processed.db'):\n",
    "    con_r = sqlite3.connect('Processed.db')\n",
    "    if con_r is not None:\n",
    "        reader = con_r.cursor()\n",
    "        reader.execute('Select question from QuestionsProcessed LIMIT 10')\n",
    "        # outputs of the above query is being saved in reader\n",
    "        print('Questions after preprocessing are displayed below')\n",
    "        print('='*100)\n",
    "        reader.fetchone()\n",
    "        for row in reader:\n",
    "            print(row)\n",
    "            print('-'*100)\n",
    "            \n",
    "con_r.commit()\n",
    "con_r.close()"
   ]
  },
  {
   "cell_type": "code",
   "execution_count": 34,
   "id": "c07262f0",
   "metadata": {},
   "outputs": [],
   "source": [
    "# fetching the sampled data from the processed db\n",
    "if os.path.isfile(\"Processed.db\"):\n",
    "    con = sqlite3.connect('Processed.db')\n",
    "    if con is not None:\n",
    "        preprocessed_data  =  pd.read_sql_query('select question, Tags from QuestionsProcessed', con)\n",
    "con.commit()\n",
    "con.close()"
   ]
  },
  {
   "cell_type": "code",
   "execution_count": 35,
   "id": "7bb65cd4",
   "metadata": {},
   "outputs": [
    {
     "data": {
      "text/html": [
       "<div>\n",
       "<style scoped>\n",
       "    .dataframe tbody tr th:only-of-type {\n",
       "        vertical-align: middle;\n",
       "    }\n",
       "\n",
       "    .dataframe tbody tr th {\n",
       "        vertical-align: top;\n",
       "    }\n",
       "\n",
       "    .dataframe thead th {\n",
       "        text-align: right;\n",
       "    }\n",
       "</style>\n",
       "<table border=\"1\" class=\"dataframe\">\n",
       "  <thead>\n",
       "    <tr style=\"text-align: right;\">\n",
       "      <th></th>\n",
       "      <th>question</th>\n",
       "      <th>tags</th>\n",
       "    </tr>\n",
       "  </thead>\n",
       "  <tbody>\n",
       "    <tr>\n",
       "      <th>0</th>\n",
       "      <td>javascript get dom except creat custom event u...</td>\n",
       "      <td>javascript android phonegap</td>\n",
       "    </tr>\n",
       "    <tr>\n",
       "      <th>1</th>\n",
       "      <td>detect touch uiimageview uitableviewcel object...</td>\n",
       "      <td>iphone objective-c uitableview uitableviewcell...</td>\n",
       "    </tr>\n",
       "    <tr>\n",
       "      <th>2</th>\n",
       "      <td>php pseudocod tool convert php sourc pseudocod...</td>\n",
       "      <td>php</td>\n",
       "    </tr>\n",
       "    <tr>\n",
       "      <th>3</th>\n",
       "      <td>grep window xp vs window use grep gnuwin windo...</td>\n",
       "      <td>windows-7 grep gnuwin32</td>\n",
       "    </tr>\n",
       "    <tr>\n",
       "      <th>4</th>\n",
       "      <td>java format word string exampl text file conta...</td>\n",
       "      <td>java arraylist</td>\n",
       "    </tr>\n",
       "    <tr>\n",
       "      <th>...</th>\n",
       "      <td>...</td>\n",
       "      <td>...</td>\n",
       "    </tr>\n",
       "    <tr>\n",
       "      <th>99994</th>\n",
       "      <td>swap view tab bar app call view control direct...</td>\n",
       "      <td>iphone objective-c</td>\n",
       "    </tr>\n",
       "    <tr>\n",
       "      <th>99995</th>\n",
       "      <td>creat swf file video control code creat file v...</td>\n",
       "      <td>flash</td>\n",
       "    </tr>\n",
       "    <tr>\n",
       "      <th>99996</th>\n",
       "      <td>cakephp undefin class constant attachmentbehav...</td>\n",
       "      <td>cakephp</td>\n",
       "    </tr>\n",
       "    <tr>\n",
       "      <th>99997</th>\n",
       "      <td>group modulo prime general follow statement pr...</td>\n",
       "      <td>elementary-number-theory</td>\n",
       "    </tr>\n",
       "    <tr>\n",
       "      <th>99998</th>\n",
       "      <td>chang text textview popupwindow work problem d...</td>\n",
       "      <td>java android textview popupwindow viewgroup</td>\n",
       "    </tr>\n",
       "  </tbody>\n",
       "</table>\n",
       "<p>99999 rows × 2 columns</p>\n",
       "</div>"
      ],
      "text/plain": [
       "                                                question  \\\n",
       "0      javascript get dom except creat custom event u...   \n",
       "1      detect touch uiimageview uitableviewcel object...   \n",
       "2      php pseudocod tool convert php sourc pseudocod...   \n",
       "3      grep window xp vs window use grep gnuwin windo...   \n",
       "4      java format word string exampl text file conta...   \n",
       "...                                                  ...   \n",
       "99994  swap view tab bar app call view control direct...   \n",
       "99995  creat swf file video control code creat file v...   \n",
       "99996  cakephp undefin class constant attachmentbehav...   \n",
       "99997  group modulo prime general follow statement pr...   \n",
       "99998  chang text textview popupwindow work problem d...   \n",
       "\n",
       "                                                    tags  \n",
       "0                            javascript android phonegap  \n",
       "1      iphone objective-c uitableview uitableviewcell...  \n",
       "2                                                    php  \n",
       "3                                windows-7 grep gnuwin32  \n",
       "4                                         java arraylist  \n",
       "...                                                  ...  \n",
       "99994                                 iphone objective-c  \n",
       "99995                                              flash  \n",
       "99996                                            cakephp  \n",
       "99997                           elementary-number-theory  \n",
       "99998        java android textview popupwindow viewgroup  \n",
       "\n",
       "[99999 rows x 2 columns]"
      ]
     },
     "execution_count": 35,
     "metadata": {},
     "output_type": "execute_result"
    }
   ],
   "source": [
    "preprocessed_data"
   ]
  },
  {
   "cell_type": "code",
   "execution_count": 37,
   "id": "da029ffa",
   "metadata": {},
   "outputs": [
    {
     "name": "stdout",
     "output_type": "stream",
     "text": [
      "number of data points in processed data 99999\n",
      "number of dimentions in the data 2\n"
     ]
    }
   ],
   "source": [
    "print('number of data points in processed data', preprocessed_data.shape[0])\n",
    "print('number of dimentions in the data', preprocessed_data.shape[1])"
   ]
  },
  {
   "cell_type": "markdown",
   "id": "98b2866f",
   "metadata": {},
   "source": [
    "This case is mostly related to multi-label classification we need to convert tags in single column to different labels"
   ]
  },
  {
   "cell_type": "markdown",
   "id": "7d241fd9",
   "metadata": {},
   "source": [
    "<table>\n",
    "<tr>\n",
    "<th>X</th><th>y1</th><th>y2</th><th>y3</th><th>y4</th>\n",
    "</tr>\n",
    "<tr>\n",
    "<td>x1</td><td>0</td><td>1</td><td>1</td><td>0</td>\n",
    "</tr>\n",
    "<tr>\n",
    "<td>x1</td><td>1</td><td>0</td><td>0</td><td>0</td>\n",
    "</tr>\n",
    "<tr>\n",
    "<td>x1</td><td>0</td><td>1</td><td>0</td><td>0</td>\n",
    "</tr>\n",
    "</table>"
   ]
  },
  {
   "cell_type": "code",
   "execution_count": 38,
   "id": "1ece35b5",
   "metadata": {},
   "outputs": [],
   "source": [
    "from sklearn.feature_extraction.text import CountVectorizer\n",
    "vectoriser = CountVectorizer(tokenizer= lambda x: x.split(), binary='true')\n",
    "multilabel_y = vectoriser.fit_transform(preprocessed_data['tags'])"
   ]
  },
  {
   "cell_type": "code",
   "execution_count": 39,
   "id": "c5393f3d",
   "metadata": {},
   "outputs": [
    {
     "data": {
      "text/plain": [
       "<99999x18578 sparse matrix of type '<class 'numpy.int64'>'\n",
       "\twith 290041 stored elements in Compressed Sparse Row format>"
      ]
     },
     "execution_count": 39,
     "metadata": {},
     "output_type": "execute_result"
    }
   ],
   "source": []
  },
  {
   "cell_type": "markdown",
   "id": "b519131d",
   "metadata": {},
   "source": [
    "We have already seen in the EDA that we have more than 42 tags and if we are considering all the tags in then we require a lot of computing resources"
   ]
  },
  {
   "cell_type": "code",
   "execution_count": 45,
   "id": "9f716ff7",
   "metadata": {},
   "outputs": [],
   "source": [
    "def tagsToChose(n):\n",
    "    t = multilabel_y.sum(axis=0).tolist()[0]\n",
    "    sorted_tags = sorted(range(len(t)),key=lambda i: t[i],reverse=True)\n",
    "    multilabel_yn = multilabel_y[:,sorted_tags[:n]]\n",
    "    return multilabel_yn"
   ]
  },
  {
   "cell_type": "code",
   "execution_count": 47,
   "id": "ac2b73bd",
   "metadata": {},
   "outputs": [],
   "source": [
    "def question_explained_fn(n):\n",
    "    multilabel_yn = tagsToChose(n)\n",
    "    x = multilabel_yn.sum(axis=1)\n",
    "    return np.count_nonzero(x==0)"
   ]
  },
  {
   "cell_type": "code",
   "execution_count": 53,
   "id": "f2d068f5",
   "metadata": {},
   "outputs": [],
   "source": [
    "question_explained = []\n",
    "totat_tags = multilabel_y.shape[1]\n",
    "total_qs = multilabel_y.shape[0]\n",
    "for i in range(500,totat_tags,100):\n",
    "    question_explained.append(np.round((total_qs-question_explained_fn(i)/total_qs)*100,3))\n",
    "    "
   ]
  },
  {
   "cell_type": "code",
   "execution_count": 49,
   "id": "cd9afe7d",
   "metadata": {},
   "outputs": [
    {
     "data": {
      "text/plain": [
       "18578"
      ]
     },
     "execution_count": 49,
     "metadata": {},
     "output_type": "execute_result"
    }
   ],
   "source": [
    "totat_tags"
   ]
  },
  {
   "cell_type": "code",
   "execution_count": 50,
   "id": "f317668b",
   "metadata": {},
   "outputs": [
    {
     "data": {
      "text/plain": [
       "99999"
      ]
     },
     "execution_count": 50,
     "metadata": {},
     "output_type": "execute_result"
    }
   ],
   "source": [
    "total_qs"
   ]
  },
  {
   "cell_type": "code",
   "execution_count": 56,
   "id": "53e8c5b4",
   "metadata": {},
   "outputs": [
    {
     "name": "stderr",
     "output_type": "stream",
     "text": [
      "C:\\Users\\saksh\\AppData\\Local\\Temp\\ipykernel_14816\\983187884.py:4: UserWarning: FixedFormatter should only be used together with FixedLocator\n",
      "  ax.set_xticklabels(xlabel)\n"
     ]
    },
    {
     "data": {
      "image/png": "[encoded data removed]",
      "text/plain": [
       "<Figure size 640x480 with 1 Axes>"
      ]
     },
     "metadata": {},
     "output_type": "display_data"
    },
    {
     "name": "stdout",
     "output_type": "stream",
     "text": [
      "with  5500 tags we are covering  9999899.086 % of questions\n"
     ]
    }
   ],
   "source": [
    "ig, ax = plt.subplots()\n",
    "ax.plot(question_explained)\n",
    "xlabel = list(500+np.array(range(-50,450,50))*50)\n",
    "ax.set_xticklabels(xlabel)\n",
    "plt.xlabel(\"Number of tags\")\n",
    "plt.ylabel(\"Number Questions coverd partially\")\n",
    "plt.grid()\n",
    "plt.show()\n",
    "# you can choose any number of tags based on your computing power, minimun is 50(it covers 90% of the tags)\n",
    "print(\"with \",5500,\"tags we are covering \",question_explained[50],\"% of questions\")"
   ]
  },
  {
   "cell_type": "code",
   "execution_count": 57,
   "id": "bec43d58",
   "metadata": {},
   "outputs": [
    {
     "name": "stdout",
     "output_type": "stream",
     "text": [
      "number of questions that are not covered in the select tags are 914 out of 99999\n"
     ]
    }
   ],
   "source": [
    "multilabel_yx = tagsToChose(5500)\n",
    "print('number of questions that are not covered in the select tags are', question_explained_fn(5500),'out of', total_qs)"
   ]
  },
  {
   "cell_type": "code",
   "execution_count": 59,
   "id": "7304e0df",
   "metadata": {},
   "outputs": [
    {
     "name": "stdout",
     "output_type": "stream",
     "text": [
      "number of tags in sampple are 18578\n"
     ]
    }
   ],
   "source": [
    "print('number of tags in sampple are',multilabel_y.shape[1])"
   ]
  },
  {
   "cell_type": "markdown",
   "id": "2be7bfea",
   "metadata": {},
   "source": [
    "#### we covering 99.4 percent of question using top 15% of the tags"
   ]
  },
  {
   "cell_type": "code",
   "execution_count": 60,
   "id": "83633eef",
   "metadata": {},
   "outputs": [],
   "source": [
    "# spliting the data\n",
    "total_size = preprocessed_data.shape[0]\n",
    "train_size = int(0.80* total_size)\n",
    "\n",
    "xtrain = preprocessed_data.head(train_size)\n",
    "xtest = preprocessed_data.head(total_size-train_size)\n",
    "\n",
    "ytrain = multilabel_yx[0:train_size,:]\n",
    "ytest = multilabel_yx[train_size:total_size,:]"
   ]
  },
  {
   "cell_type": "code",
   "execution_count": 64,
   "id": "1572e446",
   "metadata": {},
   "outputs": [
    {
     "data": {
      "text/plain": [
       "20000"
      ]
     },
     "execution_count": 64,
     "metadata": {},
     "output_type": "execute_result"
    }
   ],
   "source": [
    "ytest.shape[0]"
   ]
  },
  {
   "cell_type": "code",
   "execution_count": 108,
   "id": "f13a09fa",
   "metadata": {},
   "outputs": [
    {
     "name": "stdout",
     "output_type": "stream",
     "text": [
      "Time taken to run this cell : 0:00:38.673219\n"
     ]
    }
   ],
   "source": [
    "from sklearn.feature_extraction.text import TfidfVectorizer\n",
    "start = dt.datetime.now()\n",
    "vectorizer = TfidfVectorizer(min_df=0.00009, max_features=200000, smooth_idf=True, norm=\"l2\", \\\n",
    "                             tokenizer = lambda x: x.split(), sublinear_tf=False, ngram_range=(1,3))\n",
    "x_train_multilabel = vectorizer.fit_transform(xtrain['question'])\n",
    "x_test_multilabel = vectorizer.transform(xtest['question'])\n",
    "print(\"Time taken to run this cell :\", dt.datetime.now() - start)"
   ]
  },
  {
   "cell_type": "code",
   "execution_count": 109,
   "id": "fe4842af",
   "metadata": {},
   "outputs": [
    {
     "name": "stdout",
     "output_type": "stream",
     "text": [
      "Dimensions of train data X: (79999, 89328) Y : (79999, 5500)\n",
      "Dimensions of test data X: (20000, 89328) Y: (20000, 5500)\n"
     ]
    }
   ],
   "source": [
    "print(\"Dimensions of train data X:\",x_train_multilabel.shape, \"Y :\",ytrain.shape)\n",
    "print(\"Dimensions of test data X:\",x_test_multilabel.shape,\"Y:\",ytest.shape)"
   ]
  },
  {
   "cell_type": "code",
   "execution_count": null,
   "id": "683b00ba",
   "metadata": {},
   "outputs": [],
   "source": [
    "from sklearn.multiclass import OneVsRestClassifier\n",
    "from sklearn.linear_model import SGDClassifier\n",
    "classifier = OneVsRestClassifier(SGDClassifier(loss='log', alpha=0.00001, penalty='l1'), n_jobs=-1)\n",
    "classifier.fit(x_train_multilabel, y_train)\n",
    "predictions = classifier.predict(x_test_multilabel)\n",
    "\n",
    "print(\"accuracy :\",metrics.accuracy_score(y_test,predictions))\n",
    "print(\"macro f1 score :\",metrics.f1_score(y_test, predictions, average = 'macro'))\n",
    "print(\"micro f1 scoore :\",metrics.f1_score(y_test, predictions, average = 'micro'))\n",
    "print(\"hamming loss :\",metrics.hamming_loss(y_test,predictions))\n",
    "print(\"Precision recall report :\\n\",metrics.classification_report(y_test, predictions))"
   ]
  },
  {
   "cell_type": "code",
   "execution_count": null,
   "id": "658317e2",
   "metadata": {},
   "outputs": [],
   "source": [
    "from sklearn.externals import joblib\n",
    "joblib.dump(classifier, 'lr_with_equal_weight.pkl')"
   ]
  },
  {
   "cell_type": "code",
   "execution_count": 110,
   "id": "3ff8171b",
   "metadata": {},
   "outputs": [],
   "source": [
    "# Creating the model with 0.5 million data point and 500 tags"
   ]
  },
  {
   "cell_type": "code",
   "execution_count": 111,
   "id": "727488b3",
   "metadata": {},
   "outputs": [
    {
     "name": "stdout",
     "output_type": "stream",
     "text": [
      "Tables in the databse:\n",
      "QuestionsProcessed\n"
     ]
    }
   ],
   "source": [
    "sql_create_table = \"\"\"CREATE TABLE IF NOT EXISTS QuestionsProcessed (question text NOT NULL, code text, tags text, words_pre integer, words_post integer, is_code integer);\"\"\"\n",
    "create_database_table(\"Titlemoreweight.db\", sql_create_table)"
   ]
  },
  {
   "cell_type": "code",
   "execution_count": 113,
   "id": "c3a8cd3a",
   "metadata": {},
   "outputs": [
    {
     "name": "stdout",
     "output_type": "stream",
     "text": [
      "Tables in the databse:\n",
      "QuestionsProcessed\n",
      "Cleared All the rows\n"
     ]
    }
   ],
   "source": [
    "read_db = 'train_with_no_duplicate.db'\n",
    "write_db = 'Titlemoreweight.db'\n",
    "train_datasize = 400000\n",
    "if os.path.isfile(read_db):\n",
    "    conn_r = create_connection(read_db)\n",
    "    if conn_r is not None:\n",
    "        reader =conn_r.cursor()\n",
    "        # for selecting first 0.5M rows\n",
    "        reader.execute(\"SELECT Title, Body, Tags From no_duplicate_data LIMIT 500001;\")\n",
    "        # for selecting random points\n",
    "        #reader.execute(\"SELECT Title, Body, Tags From no_dup_train ORDER BY RANDOM() LIMIT 500001;\")\n",
    "\n",
    "if os.path.isfile(write_db):\n",
    "    conn_w = create_connection(write_db)\n",
    "    if conn_w is not None:\n",
    "        tables = checktableExist(conn_w)\n",
    "        writer =conn_w.cursor()\n",
    "        if tables != 0:\n",
    "            writer.execute(\"DELETE FROM QuestionsProcessed WHERE 1\")\n",
    "            print(\"Cleared All the rows\")"
   ]
  },
  {
   "cell_type": "markdown",
   "id": "319f963c",
   "metadata": {},
   "source": [
    "<ol>\n",
    "    <li> Separate Code from Body </li>\n",
    "    <li> Remove Spcial characters from Question title and description (not in code)</li>\n",
    "    <li> <b> Give more weightage to title : Add title three times to the question </b> </li>\n",
    "   \n",
    "    <li> Remove stop words (Except 'C') </li>\n",
    "    <li> Remove HTML Tags </li>\n",
    "    <li> Convert all the characters into small letters </li>\n",
    "    <li> Use SnowballStemmer to stem the words </li>\n",
    "</ol>"
   ]
  },
  {
   "cell_type": "code",
   "execution_count": 117,
   "id": "49673128",
   "metadata": {},
   "outputs": [
    {
     "name": "stdout",
     "output_type": "stream",
     "text": [
      "number of questions completed= 100000\n",
      "number of questions completed= 200000\n",
      "number of questions completed= 300000\n",
      "number of questions completed= 400000\n",
      "number of questions completed= 500000\n",
      "Avg. length of questions(Title+Body) before processing: 1239\n",
      "Avg. length of questions(Title+Body) after processing: 424\n",
      "Percent of questions containing code: 57\n",
      "Time taken to run this cell : 0:18:17.803557\n"
     ]
    }
   ],
   "source": [
    "#http://www.bernzilla.com/2008/05/13/selecting-a-random-row-from-an-sqlite-table/\n",
    "start = dt.datetime.now()\n",
    "preprocessed_data_list=[]\n",
    "reader.fetchone()\n",
    "questions_with_code=0\n",
    "len_pre=0\n",
    "len_post=0\n",
    "questions_proccesed = 0\n",
    "for row in reader:\n",
    "\n",
    "    is_code = 0\n",
    "\n",
    "    title, question, tags = row[0], row[1], str(row[2])\n",
    "\n",
    "    if '<code>' in question:\n",
    "        questions_with_code+=1\n",
    "        is_code = 1\n",
    "    x = len(question)+len(title)\n",
    "    len_pre+=x\n",
    "\n",
    "    code = str(re.findall(r'<code>(.*?)</code>', question, flags=re.DOTALL))\n",
    "\n",
    "    question=re.sub('<code>(.*?)</code>', '', question, flags=re.MULTILINE|re.DOTALL)\n",
    "    question=striphtml(question.encode('utf-8'))\n",
    "\n",
    "    title=title.encode('utf-8')\n",
    "\n",
    "    # adding title three time to the data to increase its weight\n",
    "    # add tags string to the training data\n",
    "\n",
    "    question=str(title)+\" \"+str(title)+\" \"+str(title)+\" \"+question\n",
    "\n",
    "#     if questions_proccesed<=train_datasize:\n",
    "#         question=str(title)+\" \"+str(title)+\" \"+str(title)+\" \"+question+\" \"+str(tags)\n",
    "#     else:\n",
    "#         question=str(title)+\" \"+str(title)+\" \"+str(title)+\" \"+question\n",
    "\n",
    "    question=re.sub(r'[^A-Za-z0-9#+.\\-]+',' ',question)\n",
    "    words=word_tokenize(str(question.lower()))\n",
    "\n",
    "    #Removing all single letter and and stopwords from question exceptt for the letter 'c'\n",
    "    question=' '.join(str(stemmer.stem(j)) for j in words if j not in stop_words and (len(j)!=1 or j=='c'))\n",
    "\n",
    "    len_post+=len(question)\n",
    "    tup = (question,code,tags,x,len(question),is_code)\n",
    "    questions_proccesed += 1\n",
    "    writer.execute(\"insert into QuestionsProcessed(question,code,tags,words_pre,words_post,is_code) values (?,?,?,?,?,?)\",tup)\n",
    "    if (questions_proccesed%100000==0):\n",
    "        print(\"number of questions completed=\",questions_proccesed)\n",
    "\n",
    "no_dup_avg_len_pre=(len_pre*1.0)/questions_proccesed\n",
    "no_dup_avg_len_post=(len_post*1.0)/questions_proccesed\n",
    "\n",
    "print( \"Avg. length of questions(Title+Body) before processing: %d\"%no_dup_avg_len_pre)\n",
    "print( \"Avg. length of questions(Title+Body) after processing: %d\"%no_dup_avg_len_post)\n",
    "print (\"Percent of questions containing code: %d\"%((questions_with_code*100.0)/questions_proccesed))\n",
    "\n",
    "print(\"Time taken to run this cell :\", dt.datetime.now() - start)"
   ]
  },
  {
   "cell_type": "code",
   "execution_count": 118,
   "id": "62965cd8",
   "metadata": {},
   "outputs": [],
   "source": [
    "# never forget to close the conections or else we will end up with database locks\n",
    "conn_r.commit()\n",
    "conn_w.commit()\n",
    "conn_r.close()\n",
    "conn_w.close()"
   ]
  },
  {
   "cell_type": "code",
   "execution_count": 119,
   "id": "93d3a830",
   "metadata": {},
   "outputs": [
    {
     "name": "stdout",
     "output_type": "stream",
     "text": [
      "Questions after preprocessed\n",
      "====================================================================================================\n",
      "('dynam datagrid bind silverlight dynam datagrid bind silverlight dynam datagrid bind silverlight bind datagrid dynam code wrote code debug code block seem bind correct grid come column form come grid column although necessari bind nthank repli advanc ..',)\n",
      "----------------------------------------------------------------------------------------------------\n",
      "('java.lang.noclassdeffounderror javax servlet jsp tagext taglibraryvalid java.lang.noclassdeffounderror javax servlet jsp tagext taglibraryvalid java.lang.noclassdeffounderror javax servlet jsp tagext taglibraryvalid follow guid link instal jstl got follow error tri launch jsp page java.lang.noclassdeffounderror javax servlet jsp tagext taglibraryvalid taglib declar instal jstl 1.1 tomcat webapp tri project work also tri version 1.2 jstl still messag caus solv',)\n",
      "----------------------------------------------------------------------------------------------------\n",
      "('java.sql.sqlexcept microsoft odbc driver manag invalid descriptor index java.sql.sqlexcept microsoft odbc driver manag invalid descriptor index java.sql.sqlexcept microsoft odbc driver manag invalid descriptor index use follow code display caus solv',)\n",
      "----------------------------------------------------------------------------------------------------\n",
      "('better way updat feed fb php sdk better way updat feed fb php sdk better way updat feed fb php sdk novic facebook api read mani tutori still confused.i find post feed api method like correct second way use curl someth like way better',)\n",
      "----------------------------------------------------------------------------------------------------\n",
      "('btnadd click event open two window record ad btnadd click event open two window record ad btnadd click event open two window record ad open window search.aspx use code hav add button search.aspx nwhen insert record btnadd click event open anoth window nafter insert record close window',)\n",
      "----------------------------------------------------------------------------------------------------\n",
      "('sql inject issu prevent correct form submiss php sql inject issu prevent correct form submiss php sql inject issu prevent correct form submiss php check everyth think make sure input field safe type sql inject good news safe bad news one tag mess form submiss place even touch life figur exact html use templat file forgiv okay entir php script get execut see data post none forum field post problem use someth titl field none data get post current use print post see submit noth work flawless statement though also mention script work flawless local machin use host come across problem state list input test mess',)\n",
      "----------------------------------------------------------------------------------------------------\n",
      "('countabl subaddit lebesgu measur countabl subaddit lebesgu measur countabl subaddit lebesgu measur let lbrace rbrace sequenc set sigma -algebra mathcal want show left bigcup right leq sum left right countabl addit measur defin set sigma algebra mathcal think use monoton properti somewher proof start appreci littl help nthank ad han answer make follow addit construct given han answer clear bigcup bigcup cap emptyset neq left bigcup right left bigcup right sum left right also construct subset monoton left right leq left right final would sum leq sum result follow',)\n",
      "----------------------------------------------------------------------------------------------------\n",
      "('hql equival sql queri hql equival sql queri hql equival sql queri hql queri replac name class properti name error occur hql error',)\n",
      "----------------------------------------------------------------------------------------------------\n",
      "('undefin symbol architectur i386 objc class skpsmtpmessag referenc error undefin symbol architectur i386 objc class skpsmtpmessag referenc error undefin symbol architectur i386 objc class skpsmtpmessag referenc error import framework send email applic background import framework i.e skpsmtpmessag somebodi suggest get error collect2 ld return exit status import framework correct sorc taken framework follow mfmailcomposeviewcontrol question lock field updat answer drag drop folder project click copi nthat',)\n",
      "----------------------------------------------------------------------------------------------------\n"
     ]
    }
   ],
   "source": [
    "if os.path.isfile(write_db):\n",
    "    conn_r = create_connection(write_db)\n",
    "    if conn_r is not None:\n",
    "        reader =conn_r.cursor()\n",
    "        reader.execute(\"SELECT question From QuestionsProcessed LIMIT 10\")\n",
    "        print(\"Questions after preprocessed\")\n",
    "        print('='*100)\n",
    "        reader.fetchone()\n",
    "        for row in reader:\n",
    "            print(row)\n",
    "            print('-'*100)\n",
    "conn_r.commit()\n",
    "conn_r.close()"
   ]
  },
  {
   "cell_type": "code",
   "execution_count": 120,
   "id": "59336e57",
   "metadata": {},
   "outputs": [],
   "source": [
    "#Taking 0.5 Million entries to a dataframe.\n",
    "write_db = 'Titlemoreweight.db'\n",
    "if os.path.isfile(write_db):\n",
    "    conn_r = create_connection(write_db)\n",
    "    if conn_r is not None:\n",
    "        preprocessed_data = pd.read_sql_query(\"\"\"SELECT question, Tags FROM QuestionsProcessed\"\"\", conn_r)\n",
    "conn_r.commit()\n",
    "conn_r.close()"
   ]
  },
  {
   "cell_type": "code",
   "execution_count": 121,
   "id": "da252f5c",
   "metadata": {},
   "outputs": [
    {
     "name": "stdout",
     "output_type": "stream",
     "text": [
      "number of data points in sample : 500000\n",
      "number of dimensions : 2\n"
     ]
    }
   ],
   "source": [
    "print(\"number of data points in sample :\", preprocessed_data.shape[0])\n",
    "print(\"number of dimensions :\", preprocessed_data.shape[1])"
   ]
  },
  {
   "cell_type": "code",
   "execution_count": 122,
   "id": "df054a9d",
   "metadata": {},
   "outputs": [],
   "source": [
    "vectorizer = CountVectorizer(tokenizer = lambda x: x.split(), binary='true')\n",
    "multilabel_y = vectorizer.fit_transform(preprocessed_data['tags'])"
   ]
  },
  {
   "cell_type": "code",
   "execution_count": 124,
   "id": "b3b23123",
   "metadata": {},
   "outputs": [],
   "source": [
    "questions_explained = []\n",
    "total_tags=multilabel_y.shape[1]\n",
    "total_qs=preprocessed_data.shape[0]\n",
    "for i in range(500, total_tags, 100):\n",
    "    questions_explained.append(np.round(((total_qs-question_explained_fn(i))/total_qs)*100,3))"
   ]
  },
  {
   "cell_type": "code",
   "execution_count": 125,
   "id": "684b6357",
   "metadata": {},
   "outputs": [
    {
     "name": "stderr",
     "output_type": "stream",
     "text": [
      "C:\\Users\\saksh\\AppData\\Local\\Temp\\ipykernel_14816\\1194059314.py:4: UserWarning: FixedFormatter should only be used together with FixedLocator\n",
      "  ax.set_xticklabels(xlabel)\n"
     ]
    },
    {
     "data": {
      "image/png": "[encoded data removed]",
      "text/plain": [
       "<Figure size 640x480 with 1 Axes>"
      ]
     },
     "metadata": {},
     "output_type": "display_data"
    },
    {
     "name": "stdout",
     "output_type": "stream",
     "text": [
      "with  5500 tags we are covering  99.157 % of questions\n",
      "with  500 tags we are covering  90.956 % of questions\n"
     ]
    }
   ],
   "source": [
    "fig, ax = plt.subplots()\n",
    "ax.plot(questions_explained)\n",
    "xlabel = list(500+np.array(range(-50,450,50))*50)\n",
    "ax.set_xticklabels(xlabel)\n",
    "plt.xlabel(\"Number of tags\")\n",
    "plt.ylabel(\"Number Questions coverd partially\")\n",
    "plt.grid()\n",
    "plt.show()\n",
    "# you can choose any number of tags based on your computing power, minimun is 500(it covers 90% of the tags)\n",
    "print(\"with \",5500,\"tags we are covering \",questions_explained[50],\"% of questions\")\n",
    "print(\"with \",500,\"tags we are covering \",questions_explained[0],\"% of questions\")"
   ]
  },
  {
   "cell_type": "code",
   "execution_count": 128,
   "id": "657fc7d2",
   "metadata": {},
   "outputs": [
    {
     "name": "stdout",
     "output_type": "stream",
     "text": [
      "number of questions that are not covered : 45221 out of  500000\n"
     ]
    }
   ],
   "source": [
    "# we will be taking 500 tags\n",
    "multilabel_yx = tagsToChose(500)\n",
    "print(\"number of questions that are not covered :\", question_explained_fn(500),\"out of \", total_qs)"
   ]
  },
  {
   "cell_type": "code",
   "execution_count": 129,
   "id": "c8b01bae",
   "metadata": {},
   "outputs": [],
   "source": [
    "x_train=preprocessed_data.head(train_datasize)\n",
    "x_test=preprocessed_data.tail(preprocessed_data.shape[0] - 400000)\n",
    "\n",
    "y_train = multilabel_yx[0:train_datasize,:]\n",
    "y_test = multilabel_yx[train_datasize:preprocessed_data.shape[0],:]"
   ]
  },
  {
   "cell_type": "code",
   "execution_count": 130,
   "id": "222b7fde",
   "metadata": {},
   "outputs": [
    {
     "name": "stdout",
     "output_type": "stream",
     "text": [
      "Number of data points in train data : (400000, 500)\n",
      "Number of data points in test data : (100000, 500)\n"
     ]
    }
   ],
   "source": [
    "print(\"Number of data points in train data :\", y_train.shape)\n",
    "print(\"Number of data points in test data :\", y_test.shape)"
   ]
  },
  {
   "cell_type": "code",
   "execution_count": 132,
   "id": "9acec74d",
   "metadata": {},
   "outputs": [
    {
     "name": "stdout",
     "output_type": "stream",
     "text": [
      "Time taken to run this cell : 0:09:48.938441\n"
     ]
    }
   ],
   "source": [
    "#  Featurizing data with TfIdf vectorizer\n",
    "start = dt.datetime.now()\n",
    "vectorizer = TfidfVectorizer(min_df=0.00009, max_features=200000, smooth_idf=True, norm=\"l2\", \\\n",
    "                             tokenizer = lambda x: x.split(), sublinear_tf=False, ngram_range=(1,3))\n",
    "x_train_multilabel = vectorizer.fit_transform(x_train['question'])\n",
    "x_test_multilabel = vectorizer.transform(x_test['question'])\n",
    "print(\"Time taken to run this cell :\", dt.datetime.now() - start)"
   ]
  },
  {
   "cell_type": "code",
   "execution_count": 133,
   "id": "d1bd44e0",
   "metadata": {},
   "outputs": [
    {
     "name": "stdout",
     "output_type": "stream",
     "text": [
      "Dimensions of train data X: (400000, 95054) Y : (400000, 500)\n",
      "Dimensions of test data X: (100000, 95054) Y: (100000, 500)\n"
     ]
    }
   ],
   "source": [
    "print(\"Dimensions of train data X:\",x_train_multilabel.shape, \"Y :\",y_train.shape)\n",
    "print(\"Dimensions of test data X:\",x_test_multilabel.shape,\"Y:\",y_test.shape)"
   ]
  },
  {
   "cell_type": "code",
   "execution_count": 135,
   "id": "ac2b61f3",
   "metadata": {},
   "outputs": [
    {
     "name": "stdout",
     "output_type": "stream",
     "text": [
      "Accuracy : 0.23658\n",
      "Hamming loss  0.00278154\n",
      "Micro-average quality numbers\n",
      "Precision: 0.7206, Recall: 0.3264, F1-measure: 0.4493\n"
     ]
    },
    {
     "name": "stderr",
     "output_type": "stream",
     "text": [
      "C:\\Users\\saksh\\anaconda3\\lib\\site-packages\\sklearn\\metrics\\_classification.py:1318: UndefinedMetricWarning: Precision is ill-defined and being set to 0.0 in labels with no predicted samples. Use `zero_division` parameter to control this behavior.\n",
      "  _warn_prf(average, modifier, msg_start, len(result))\n"
     ]
    },
    {
     "name": "stdout",
     "output_type": "stream",
     "text": [
      "Macro-average quality numbers\n",
      "Precision: 0.5507, Recall: 0.2584, F1-measure: 0.3354\n"
     ]
    },
    {
     "ename": "NameError",
     "evalue": "name 'metrics' is not defined",
     "output_type": "error",
     "traceback": [
      "\u001b[1;31m---------------------------------------------------------------------------\u001b[0m",
      "\u001b[1;31mNameError\u001b[0m                                 Traceback (most recent call last)",
      "\u001b[1;32m~\\AppData\\Local\\Temp\\ipykernel_14816\\2639531378.py\u001b[0m in \u001b[0;36m<module>\u001b[1;34m\u001b[0m\n\u001b[0;32m     23\u001b[0m \u001b[0mprint\u001b[0m\u001b[1;33m(\u001b[0m\u001b[1;34m\"Precision: {:.4f}, Recall: {:.4f}, F1-measure: {:.4f}\"\u001b[0m\u001b[1;33m.\u001b[0m\u001b[0mformat\u001b[0m\u001b[1;33m(\u001b[0m\u001b[0mprecision\u001b[0m\u001b[1;33m,\u001b[0m \u001b[0mrecall\u001b[0m\u001b[1;33m,\u001b[0m \u001b[0mf1\u001b[0m\u001b[1;33m)\u001b[0m\u001b[1;33m)\u001b[0m\u001b[1;33m\u001b[0m\u001b[1;33m\u001b[0m\u001b[0m\n\u001b[0;32m     24\u001b[0m \u001b[1;33m\u001b[0m\u001b[0m\n\u001b[1;32m---> 25\u001b[1;33m \u001b[0mprint\u001b[0m \u001b[1;33m(\u001b[0m\u001b[0mmetrics\u001b[0m\u001b[1;33m.\u001b[0m\u001b[0mclassification_report\u001b[0m\u001b[1;33m(\u001b[0m\u001b[0my_test\u001b[0m\u001b[1;33m,\u001b[0m \u001b[0mpredictions\u001b[0m\u001b[1;33m)\u001b[0m\u001b[1;33m)\u001b[0m\u001b[1;33m\u001b[0m\u001b[1;33m\u001b[0m\u001b[0m\n\u001b[0m\u001b[0;32m     26\u001b[0m \u001b[0mprint\u001b[0m\u001b[1;33m(\u001b[0m\u001b[1;34m\"Time taken to run this cell :\"\u001b[0m\u001b[1;33m,\u001b[0m \u001b[0mdt\u001b[0m\u001b[1;33m.\u001b[0m\u001b[0mdatetime\u001b[0m\u001b[1;33m.\u001b[0m\u001b[0mnow\u001b[0m\u001b[1;33m(\u001b[0m\u001b[1;33m)\u001b[0m \u001b[1;33m-\u001b[0m \u001b[0mstart\u001b[0m\u001b[1;33m)\u001b[0m\u001b[1;33m\u001b[0m\u001b[1;33m\u001b[0m\u001b[0m\n",
      "\u001b[1;31mNameError\u001b[0m: name 'metrics' is not defined"
     ]
    }
   ],
   "source": [
    "start = dt.datetime.now()\n",
    "classifier = OneVsRestClassifier(SGDClassifier(loss='log', alpha=0.00001, penalty='l1'), n_jobs=-1)\n",
    "classifier.fit(x_train_multilabel, y_train)\n",
    "predictions = classifier.predict (x_test_multilabel)\n",
    "\n",
    "\n",
    "print(\"Accuracy :\",accuracy_score(y_test, predictions))\n",
    "print(\"Hamming loss \",hamming_loss(y_test,predictions))\n",
    "\n",
    "\n",
    "precision = precision_score(y_test, predictions, average='micro')\n",
    "recall = recall_score(y_test, predictions, average='micro')\n",
    "f1 = f1_score(y_test, predictions, average='micro')\n",
    "\n",
    "print(\"Micro-average quality numbers\")\n",
    "print(\"Precision: {:.4f}, Recall: {:.4f}, F1-measure: {:.4f}\".format(precision, recall, f1))\n",
    "\n",
    "precision = precision_score(y_test, predictions, average='macro')\n",
    "recall = recall_score(y_test, predictions, average='macro')\n",
    "f1 = f1_score(y_test, predictions, average='macro')\n",
    "\n",
    "print(\"Macro-average quality numbers\")\n",
    "print(\"Precision: {:.4f}, Recall: {:.4f}, F1-measure: {:.4f}\".format(precision, recall, f1))\n",
    "\n",
    "print (metrics.classification_report(y_test, predictions))\n",
    "print(\"Time taken to run this cell :\", dt.datetime.now() - start)"
   ]
  },
  {
   "cell_type": "code",
   "execution_count": null,
   "id": "1cde21f2",
   "metadata": {},
   "outputs": [],
   "source": []
  }
 ],
 "metadata": {
  "kernelspec": {
   "display_name": "Python 3 (ipykernel)",
   "language": "python",
   "name": "python3"
  },
  "language_info": {
   "codemirror_mode": {
    "name": "ipython",
    "version": 3
   },
   "file_extension": ".py",
   "mimetype": "text/x-python",
   "name": "python",
   "nbconvert_exporter": "python",
   "pygments_lexer": "ipython3",
   "version": "3.9.13"
  }
 },
 "nbformat": 4,
 "nbformat_minor": 5
}
